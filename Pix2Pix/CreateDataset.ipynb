{
  "nbformat": 4,
  "nbformat_minor": 0,
  "metadata": {
    "colab": {
      "name": "CreateDataset.ipynb",
      "provenance": [],
      "collapsed_sections": [],
      "include_colab_link": true
    },
    "kernelspec": {
      "name": "python3",
      "display_name": "Python 3"
    },
    "language_info": {
      "name": "python"
    },
    "accelerator": "GPU"
  },
  "cells": [
    {
      "cell_type": "markdown",
      "metadata": {
        "id": "view-in-github",
        "colab_type": "text"
      },
      "source": [
        "<a href=\"https://colab.research.google.com/github/FatemeZamanian/DCGAN/blob/main/Pix2Pix/CreateDataset.ipynb\" target=\"_parent\"><img src=\"https://colab.research.google.com/assets/colab-badge.svg\" alt=\"Open In Colab\"/></a>"
      ]
    },
    {
      "cell_type": "code",
      "metadata": {
        "id": "ZrFwAyChOi76"
      },
      "source": [
        "!pip install kaggle\n",
        "!mkdir ~/.kaggle\n",
        "!cp kaggle.json ~/.kaggle"
      ],
      "execution_count": null,
      "outputs": []
    },
    {
      "cell_type": "code",
      "metadata": {
        "id": "q0KJd-A3POIo"
      },
      "source": [
        "!kaggle datasets download -d lijiyu/imagenet"
      ],
      "execution_count": null,
      "outputs": []
    },
    {
      "cell_type": "code",
      "metadata": {
        "id": "5PHVsdW8QxrJ"
      },
      "source": [
        "!unzip -qq imagenet.zip"
      ],
      "execution_count": 3,
      "outputs": []
    },
    {
      "cell_type": "code",
      "metadata": {
        "id": "72W90ubjQ8QR"
      },
      "source": [
        "import cv2\n",
        "import os\n",
        "import numpy as np\n",
        "\n",
        "path='/content/imagenet/train'\n",
        "for i,p in enumerate(os.listdir(path)):\n",
        "  img1=cv2.imread(f'{path}/{p}',cv2.COLOR_RGB2BGR)\n",
        "  img1 = cv2.resize(img1, (256,256))\n",
        "  temp=np.zeros((256,512,3),dtype='uint8')\n",
        "  if img1.shape==(256,256,3):\n",
        "    temp[:256,:256]=img1\n",
        "    img2=cv2.cvtColor(img1,cv2.COLOR_RGB2GRAY)\n",
        "    img2 = np.stack((img2,)*3, axis=-1)\n",
        "    temp[:256,256:]=img2\n",
        "    cv2.imwrite(f'/content/drive/MyDrive/BW-dataset/train/img{i*2+9}.jpg',temp)"
      ],
      "execution_count": 6,
      "outputs": []
    },
    {
      "cell_type": "code",
      "metadata": {
        "id": "m2iBusRpoO2d",
        "colab": {
          "base_uri": "https://localhost:8080/"
        },
        "outputId": "e52d77f0-fa0a-487e-d389-dac61dc44a7b"
      },
      "source": [
        "from google.colab import drive\n",
        "drive.mount('/content/drive')"
      ],
      "execution_count": 5,
      "outputs": [
        {
          "output_type": "stream",
          "name": "stdout",
          "text": [
            "Mounted at /content/drive\n"
          ]
        }
      ]
    }
  ]
}